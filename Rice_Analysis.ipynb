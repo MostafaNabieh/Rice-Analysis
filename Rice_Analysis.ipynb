{
  "nbformat": 4,
  "nbformat_minor": 0,
  "metadata": {
    "colab": {
      "name": "Rice Analysis.ipynb",
      "provenance": [],
      "collapsed_sections": [],
      "authorship_tag": "ABX9TyPt5me4wzpv+XE3QQB1IMde",
      "include_colab_link": true
    },
    "kernelspec": {
      "name": "python3",
      "display_name": "Python 3"
    }
  },
  "cells": [
    {
      "cell_type": "markdown",
      "metadata": {
        "id": "view-in-github",
        "colab_type": "text"
      },
      "source": [
        "<a href=\"https://colab.research.google.com/github/MostafaNabieh/Rice-Analysis/blob/master/Rice_Analysis.ipynb\" target=\"_parent\"><img src=\"https://colab.research.google.com/assets/colab-badge.svg\" alt=\"Open In Colab\"/></a>"
      ]
    },
    {
      "cell_type": "code",
      "metadata": {
        "id": "fN68B6QuaWO_",
        "colab_type": "code",
        "colab": {
          "base_uri": "https://localhost:8080/",
          "height": 72
        },
        "outputId": "d0298703-b33f-4a4f-ce85-3e8eb788d54c"
      },
      "source": [
        "import numpy as np \n",
        "import pandas as pd \n",
        "%matplotlib inline \n",
        "import seaborn as sb\n",
        "import matplotlib.pyplot as plt"
      ],
      "execution_count": 1,
      "outputs": [
        {
          "output_type": "stream",
          "text": [
            "/usr/local/lib/python3.6/dist-packages/statsmodels/tools/_testing.py:19: FutureWarning: pandas.util.testing is deprecated. Use the functions in the public API at pandas.testing instead.\n",
            "  import pandas.util.testing as tm\n"
          ],
          "name": "stderr"
        }
      ]
    },
    {
      "cell_type": "code",
      "metadata": {
        "id": "5Du2AXVgaqdH",
        "colab_type": "code",
        "colab": {}
      },
      "source": [
        "df=pd.read_excel('/content/انواع الارز.xlsx')"
      ],
      "execution_count": 2,
      "outputs": []
    },
    {
      "cell_type": "code",
      "metadata": {
        "id": "gUBsk9L1a3JJ",
        "colab_type": "code",
        "colab": {
          "base_uri": "https://localhost:8080/",
          "height": 416
        },
        "outputId": "2d8a9aaf-534f-4c46-fdb5-7be3930b1d5d"
      },
      "source": [
        "df.head(100)"
      ],
      "execution_count": 3,
      "outputs": [
        {
          "output_type": "execute_result",
          "data": {
            "text/html": [
              "<div>\n",
              "<style scoped>\n",
              "    .dataframe tbody tr th:only-of-type {\n",
              "        vertical-align: middle;\n",
              "    }\n",
              "\n",
              "    .dataframe tbody tr th {\n",
              "        vertical-align: top;\n",
              "    }\n",
              "\n",
              "    .dataframe thead th {\n",
              "        text-align: right;\n",
              "    }\n",
              "</style>\n",
              "<table border=\"1\" class=\"dataframe\">\n",
              "  <thead>\n",
              "    <tr style=\"text-align: right;\">\n",
              "      <th></th>\n",
              "      <th>الأرقام</th>\n",
              "      <th>منطقة</th>\n",
              "      <th>طول المحور</th>\n",
              "      <th>طول المحور.1</th>\n",
              "      <th>اللامركزية</th>\n",
              "      <th>منطقة محدبة</th>\n",
              "      <th>القطر المعادل</th>\n",
              "      <th>مدى</th>\n",
              "      <th>محيط</th>\n",
              "      <th>استدارة</th>\n",
              "      <th>ابعاد متزنة</th>\n",
              "      <th>التصنيف</th>\n",
              "    </tr>\n",
              "  </thead>\n",
              "  <tbody>\n",
              "    <tr>\n",
              "      <th>0</th>\n",
              "      <td>1</td>\n",
              "      <td>4537</td>\n",
              "      <td>92.229316</td>\n",
              "      <td>64.012769</td>\n",
              "      <td>0.719916</td>\n",
              "      <td>4677</td>\n",
              "      <td>76.004525</td>\n",
              "      <td>0.657536</td>\n",
              "      <td>273.085</td>\n",
              "      <td>0.764510</td>\n",
              "      <td>1.440796</td>\n",
              "      <td>ارز الساعة</td>\n",
              "    </tr>\n",
              "    <tr>\n",
              "      <th>1</th>\n",
              "      <td>2</td>\n",
              "      <td>2872</td>\n",
              "      <td>74.691881</td>\n",
              "      <td>51.400454</td>\n",
              "      <td>0.725553</td>\n",
              "      <td>3015</td>\n",
              "      <td>60.471018</td>\n",
              "      <td>0.713009</td>\n",
              "      <td>208.317</td>\n",
              "      <td>0.831658</td>\n",
              "      <td>1.453137</td>\n",
              "      <td>ارز الساعة</td>\n",
              "    </tr>\n",
              "    <tr>\n",
              "      <th>2</th>\n",
              "      <td>3</td>\n",
              "      <td>3048</td>\n",
              "      <td>76.293164</td>\n",
              "      <td>52.043491</td>\n",
              "      <td>0.731211</td>\n",
              "      <td>3132</td>\n",
              "      <td>62.296341</td>\n",
              "      <td>0.759153</td>\n",
              "      <td>210.012</td>\n",
              "      <td>0.868434</td>\n",
              "      <td>1.465950</td>\n",
              "      <td>ارز الساعة</td>\n",
              "    </tr>\n",
              "    <tr>\n",
              "      <th>3</th>\n",
              "      <td>4</td>\n",
              "      <td>3073</td>\n",
              "      <td>77.033628</td>\n",
              "      <td>51.928487</td>\n",
              "      <td>0.738639</td>\n",
              "      <td>3157</td>\n",
              "      <td>62.551300</td>\n",
              "      <td>0.783529</td>\n",
              "      <td>210.657</td>\n",
              "      <td>0.870203</td>\n",
              "      <td>1.483456</td>\n",
              "      <td>ارز الساعة</td>\n",
              "    </tr>\n",
              "    <tr>\n",
              "      <th>4</th>\n",
              "      <td>5</td>\n",
              "      <td>3693</td>\n",
              "      <td>85.124785</td>\n",
              "      <td>56.374021</td>\n",
              "      <td>0.749282</td>\n",
              "      <td>3802</td>\n",
              "      <td>68.571668</td>\n",
              "      <td>0.769375</td>\n",
              "      <td>230.332</td>\n",
              "      <td>0.874743</td>\n",
              "      <td>1.510000</td>\n",
              "      <td>ارز الساعة</td>\n",
              "    </tr>\n",
              "    <tr>\n",
              "      <th>...</th>\n",
              "      <td>...</td>\n",
              "      <td>...</td>\n",
              "      <td>...</td>\n",
              "      <td>...</td>\n",
              "      <td>...</td>\n",
              "      <td>...</td>\n",
              "      <td>...</td>\n",
              "      <td>...</td>\n",
              "      <td>...</td>\n",
              "      <td>...</td>\n",
              "      <td>...</td>\n",
              "      <td>...</td>\n",
              "    </tr>\n",
              "    <tr>\n",
              "      <th>95</th>\n",
              "      <td>96</td>\n",
              "      <td>4357</td>\n",
              "      <td>104.168804</td>\n",
              "      <td>54.503692</td>\n",
              "      <td>0.852195</td>\n",
              "      <td>4432</td>\n",
              "      <td>74.481573</td>\n",
              "      <td>0.537968</td>\n",
              "      <td>260.732</td>\n",
              "      <td>0.805395</td>\n",
              "      <td>1.911225</td>\n",
              "      <td>ارز الساعة</td>\n",
              "    </tr>\n",
              "    <tr>\n",
              "      <th>96</th>\n",
              "      <td>97</td>\n",
              "      <td>4566</td>\n",
              "      <td>107.332301</td>\n",
              "      <td>56.111906</td>\n",
              "      <td>0.852463</td>\n",
              "      <td>4735</td>\n",
              "      <td>76.247044</td>\n",
              "      <td>0.553790</td>\n",
              "      <td>272.888</td>\n",
              "      <td>0.770508</td>\n",
              "      <td>1.912826</td>\n",
              "      <td>ارز الساعة</td>\n",
              "    </tr>\n",
              "    <tr>\n",
              "      <th>97</th>\n",
              "      <td>98</td>\n",
              "      <td>3554</td>\n",
              "      <td>94.599434</td>\n",
              "      <td>49.348379</td>\n",
              "      <td>0.853156</td>\n",
              "      <td>3659</td>\n",
              "      <td>67.268814</td>\n",
              "      <td>0.813086</td>\n",
              "      <td>235.807</td>\n",
              "      <td>0.803182</td>\n",
              "      <td>1.916971</td>\n",
              "      <td>ارز الساعة</td>\n",
              "    </tr>\n",
              "    <tr>\n",
              "      <th>98</th>\n",
              "      <td>99</td>\n",
              "      <td>4686</td>\n",
              "      <td>108.041169</td>\n",
              "      <td>56.327741</td>\n",
              "      <td>0.853340</td>\n",
              "      <td>4795</td>\n",
              "      <td>77.242479</td>\n",
              "      <td>0.566147</td>\n",
              "      <td>271.738</td>\n",
              "      <td>0.797465</td>\n",
              "      <td>1.918081</td>\n",
              "      <td>ارز الساعة</td>\n",
              "    </tr>\n",
              "    <tr>\n",
              "      <th>99</th>\n",
              "      <td>100</td>\n",
              "      <td>3972</td>\n",
              "      <td>99.936027</td>\n",
              "      <td>52.074624</td>\n",
              "      <td>0.853508</td>\n",
              "      <td>4153</td>\n",
              "      <td>71.114749</td>\n",
              "      <td>0.611077</td>\n",
              "      <td>253.449</td>\n",
              "      <td>0.777030</td>\n",
              "      <td>1.919093</td>\n",
              "      <td>ارز الساعة</td>\n",
              "    </tr>\n",
              "  </tbody>\n",
              "</table>\n",
              "<p>100 rows × 12 columns</p>\n",
              "</div>"
            ],
            "text/plain": [
              "    الأرقام  منطقة  طول المحور  ...   استدارة  ابعاد متزنة     التصنيف\n",
              "0         1   4537   92.229316  ...  0.764510     1.440796  ارز الساعة\n",
              "1         2   2872   74.691881  ...  0.831658     1.453137  ارز الساعة\n",
              "2         3   3048   76.293164  ...  0.868434     1.465950  ارز الساعة\n",
              "3         4   3073   77.033628  ...  0.870203     1.483456  ارز الساعة\n",
              "4         5   3693   85.124785  ...  0.874743     1.510000  ارز الساعة\n",
              "..      ...    ...         ...  ...       ...          ...         ...\n",
              "95       96   4357  104.168804  ...  0.805395     1.911225  ارز الساعة\n",
              "96       97   4566  107.332301  ...  0.770508     1.912826  ارز الساعة\n",
              "97       98   3554   94.599434  ...  0.803182     1.916971  ارز الساعة\n",
              "98       99   4686  108.041169  ...  0.797465     1.918081  ارز الساعة\n",
              "99      100   3972   99.936027  ...  0.777030     1.919093  ارز الساعة\n",
              "\n",
              "[100 rows x 12 columns]"
            ]
          },
          "metadata": {
            "tags": []
          },
          "execution_count": 3
        }
      ]
    },
    {
      "cell_type": "code",
      "metadata": {
        "id": "5FgdPhfFa47n",
        "colab_type": "code",
        "colab": {
          "base_uri": "https://localhost:8080/",
          "height": 242
        },
        "outputId": "796c347b-7390-4608-b365-d40b1832a412"
      },
      "source": [
        "df.isnull().sum()"
      ],
      "execution_count": 4,
      "outputs": [
        {
          "output_type": "execute_result",
          "data": {
            "text/plain": [
              "الأرقام          0\n",
              "منطقة            0\n",
              "طول المحور       0\n",
              "طول المحور.1     0\n",
              "اللامركزية       0\n",
              "منطقة محدبة      0\n",
              "القطر المعادل    0\n",
              "مدى              0\n",
              "محيط             0\n",
              "استدارة          0\n",
              "ابعاد متزنة      0\n",
              "التصنيف          0\n",
              "dtype: int64"
            ]
          },
          "metadata": {
            "tags": []
          },
          "execution_count": 4
        }
      ]
    },
    {
      "cell_type": "code",
      "metadata": {
        "id": "-IS7r3rfbDY3",
        "colab_type": "code",
        "colab": {
          "base_uri": "https://localhost:8080/",
          "height": 242
        },
        "outputId": "7d02ddb5-c066-4506-b340-67a956d7f113"
      },
      "source": [
        "df.dtypes"
      ],
      "execution_count": 5,
      "outputs": [
        {
          "output_type": "execute_result",
          "data": {
            "text/plain": [
              "الأرقام            int64\n",
              "منطقة              int64\n",
              "طول المحور       float64\n",
              "طول المحور.1     float64\n",
              "اللامركزية       float64\n",
              "منطقة محدبة        int64\n",
              "القطر المعادل    float64\n",
              "مدى              float64\n",
              "محيط             float64\n",
              "استدارة          float64\n",
              "ابعاد متزنة      float64\n",
              "التصنيف           object\n",
              "dtype: object"
            ]
          },
          "metadata": {
            "tags": []
          },
          "execution_count": 5
        }
      ]
    },
    {
      "cell_type": "code",
      "metadata": {
        "id": "_XVwP_GabHwO",
        "colab_type": "code",
        "colab": {
          "base_uri": "https://localhost:8080/",
          "height": 314
        },
        "outputId": "a2337a41-d710-4e1e-fb56-5951c68dd428"
      },
      "source": [
        "df.describe()"
      ],
      "execution_count": 6,
      "outputs": [
        {
          "output_type": "execute_result",
          "data": {
            "text/html": [
              "<div>\n",
              "<style scoped>\n",
              "    .dataframe tbody tr th:only-of-type {\n",
              "        vertical-align: middle;\n",
              "    }\n",
              "\n",
              "    .dataframe tbody tr th {\n",
              "        vertical-align: top;\n",
              "    }\n",
              "\n",
              "    .dataframe thead th {\n",
              "        text-align: right;\n",
              "    }\n",
              "</style>\n",
              "<table border=\"1\" class=\"dataframe\">\n",
              "  <thead>\n",
              "    <tr style=\"text-align: right;\">\n",
              "      <th></th>\n",
              "      <th>الأرقام</th>\n",
              "      <th>منطقة</th>\n",
              "      <th>طول المحور</th>\n",
              "      <th>طول المحور.1</th>\n",
              "      <th>اللامركزية</th>\n",
              "      <th>منطقة محدبة</th>\n",
              "      <th>القطر المعادل</th>\n",
              "      <th>مدى</th>\n",
              "      <th>محيط</th>\n",
              "      <th>استدارة</th>\n",
              "      <th>ابعاد متزنة</th>\n",
              "    </tr>\n",
              "  </thead>\n",
              "  <tbody>\n",
              "    <tr>\n",
              "      <th>count</th>\n",
              "      <td>18185.000000</td>\n",
              "      <td>18185.000000</td>\n",
              "      <td>18185.000000</td>\n",
              "      <td>18185.000000</td>\n",
              "      <td>18185.000000</td>\n",
              "      <td>18185.000000</td>\n",
              "      <td>18185.000000</td>\n",
              "      <td>18185.000000</td>\n",
              "      <td>18185.000000</td>\n",
              "      <td>18185.000000</td>\n",
              "      <td>18185.000000</td>\n",
              "    </tr>\n",
              "    <tr>\n",
              "      <th>mean</th>\n",
              "      <td>9093.000000</td>\n",
              "      <td>7036.492989</td>\n",
              "      <td>151.680754</td>\n",
              "      <td>59.807851</td>\n",
              "      <td>0.915406</td>\n",
              "      <td>7225.817872</td>\n",
              "      <td>94.132952</td>\n",
              "      <td>0.616653</td>\n",
              "      <td>351.606949</td>\n",
              "      <td>0.707998</td>\n",
              "      <td>2.599081</td>\n",
              "    </tr>\n",
              "    <tr>\n",
              "      <th>std</th>\n",
              "      <td>5249.701658</td>\n",
              "      <td>1467.197150</td>\n",
              "      <td>12.376402</td>\n",
              "      <td>10.061653</td>\n",
              "      <td>0.030575</td>\n",
              "      <td>1502.006571</td>\n",
              "      <td>9.906250</td>\n",
              "      <td>0.104389</td>\n",
              "      <td>29.500620</td>\n",
              "      <td>0.067310</td>\n",
              "      <td>0.434836</td>\n",
              "    </tr>\n",
              "    <tr>\n",
              "      <th>min</th>\n",
              "      <td>1.000000</td>\n",
              "      <td>2522.000000</td>\n",
              "      <td>74.133114</td>\n",
              "      <td>34.409894</td>\n",
              "      <td>0.676647</td>\n",
              "      <td>2579.000000</td>\n",
              "      <td>56.666658</td>\n",
              "      <td>0.383239</td>\n",
              "      <td>197.015000</td>\n",
              "      <td>0.174590</td>\n",
              "      <td>1.358128</td>\n",
              "    </tr>\n",
              "    <tr>\n",
              "      <th>25%</th>\n",
              "      <td>4547.000000</td>\n",
              "      <td>5962.000000</td>\n",
              "      <td>145.675910</td>\n",
              "      <td>51.393151</td>\n",
              "      <td>0.891617</td>\n",
              "      <td>6125.000000</td>\n",
              "      <td>87.126656</td>\n",
              "      <td>0.538530</td>\n",
              "      <td>333.990000</td>\n",
              "      <td>0.650962</td>\n",
              "      <td>2.208527</td>\n",
              "    </tr>\n",
              "    <tr>\n",
              "      <th>50%</th>\n",
              "      <td>9093.000000</td>\n",
              "      <td>6660.000000</td>\n",
              "      <td>153.883750</td>\n",
              "      <td>55.724288</td>\n",
              "      <td>0.923259</td>\n",
              "      <td>6843.000000</td>\n",
              "      <td>92.085696</td>\n",
              "      <td>0.601194</td>\n",
              "      <td>353.088000</td>\n",
              "      <td>0.701941</td>\n",
              "      <td>2.602966</td>\n",
              "    </tr>\n",
              "    <tr>\n",
              "      <th>75%</th>\n",
              "      <td>13639.000000</td>\n",
              "      <td>8423.000000</td>\n",
              "      <td>160.056214</td>\n",
              "      <td>70.156593</td>\n",
              "      <td>0.941372</td>\n",
              "      <td>8645.000000</td>\n",
              "      <td>103.559146</td>\n",
              "      <td>0.695664</td>\n",
              "      <td>373.003000</td>\n",
              "      <td>0.769280</td>\n",
              "      <td>2.964101</td>\n",
              "    </tr>\n",
              "    <tr>\n",
              "      <th>max</th>\n",
              "      <td>18185.000000</td>\n",
              "      <td>10210.000000</td>\n",
              "      <td>183.211434</td>\n",
              "      <td>82.550762</td>\n",
              "      <td>0.966774</td>\n",
              "      <td>11008.000000</td>\n",
              "      <td>114.016559</td>\n",
              "      <td>0.886573</td>\n",
              "      <td>508.511000</td>\n",
              "      <td>0.904748</td>\n",
              "      <td>3.911845</td>\n",
              "    </tr>\n",
              "  </tbody>\n",
              "</table>\n",
              "</div>"
            ],
            "text/plain": [
              "            الأرقام         منطقة  ...       استدارة   ابعاد متزنة\n",
              "count  18185.000000  18185.000000  ...  18185.000000  18185.000000\n",
              "mean    9093.000000   7036.492989  ...      0.707998      2.599081\n",
              "std     5249.701658   1467.197150  ...      0.067310      0.434836\n",
              "min        1.000000   2522.000000  ...      0.174590      1.358128\n",
              "25%     4547.000000   5962.000000  ...      0.650962      2.208527\n",
              "50%     9093.000000   6660.000000  ...      0.701941      2.602966\n",
              "75%    13639.000000   8423.000000  ...      0.769280      2.964101\n",
              "max    18185.000000  10210.000000  ...      0.904748      3.911845\n",
              "\n",
              "[8 rows x 11 columns]"
            ]
          },
          "metadata": {
            "tags": []
          },
          "execution_count": 6
        }
      ]
    },
    {
      "cell_type": "code",
      "metadata": {
        "id": "0EWpcuQ1bRFt",
        "colab_type": "code",
        "colab": {
          "base_uri": "https://localhost:8080/",
          "height": 141
        },
        "outputId": "cbb25e7d-26e6-4b01-a527-811fac2eec49"
      },
      "source": [
        "result=df.groupby('التصنيف').count()\n",
        "result"
      ],
      "execution_count": 7,
      "outputs": [
        {
          "output_type": "execute_result",
          "data": {
            "text/html": [
              "<div>\n",
              "<style scoped>\n",
              "    .dataframe tbody tr th:only-of-type {\n",
              "        vertical-align: middle;\n",
              "    }\n",
              "\n",
              "    .dataframe tbody tr th {\n",
              "        vertical-align: top;\n",
              "    }\n",
              "\n",
              "    .dataframe thead th {\n",
              "        text-align: right;\n",
              "    }\n",
              "</style>\n",
              "<table border=\"1\" class=\"dataframe\">\n",
              "  <thead>\n",
              "    <tr style=\"text-align: right;\">\n",
              "      <th></th>\n",
              "      <th>الأرقام</th>\n",
              "      <th>منطقة</th>\n",
              "      <th>طول المحور</th>\n",
              "      <th>طول المحور.1</th>\n",
              "      <th>اللامركزية</th>\n",
              "      <th>منطقة محدبة</th>\n",
              "      <th>القطر المعادل</th>\n",
              "      <th>مدى</th>\n",
              "      <th>محيط</th>\n",
              "      <th>استدارة</th>\n",
              "      <th>ابعاد متزنة</th>\n",
              "    </tr>\n",
              "    <tr>\n",
              "      <th>التصنيف</th>\n",
              "      <th></th>\n",
              "      <th></th>\n",
              "      <th></th>\n",
              "      <th></th>\n",
              "      <th></th>\n",
              "      <th></th>\n",
              "      <th></th>\n",
              "      <th></th>\n",
              "      <th></th>\n",
              "      <th></th>\n",
              "      <th></th>\n",
              "    </tr>\n",
              "  </thead>\n",
              "  <tbody>\n",
              "    <tr>\n",
              "      <th>ارز الجوهرة</th>\n",
              "      <td>8200</td>\n",
              "      <td>8200</td>\n",
              "      <td>8200</td>\n",
              "      <td>8200</td>\n",
              "      <td>8200</td>\n",
              "      <td>8200</td>\n",
              "      <td>8200</td>\n",
              "      <td>8200</td>\n",
              "      <td>8200</td>\n",
              "      <td>8200</td>\n",
              "      <td>8200</td>\n",
              "    </tr>\n",
              "    <tr>\n",
              "      <th>ارز الساعة</th>\n",
              "      <td>9985</td>\n",
              "      <td>9985</td>\n",
              "      <td>9985</td>\n",
              "      <td>9985</td>\n",
              "      <td>9985</td>\n",
              "      <td>9985</td>\n",
              "      <td>9985</td>\n",
              "      <td>9985</td>\n",
              "      <td>9985</td>\n",
              "      <td>9985</td>\n",
              "      <td>9985</td>\n",
              "    </tr>\n",
              "  </tbody>\n",
              "</table>\n",
              "</div>"
            ],
            "text/plain": [
              "             الأرقام  منطقة  طول المحور  ...  محيط  استدارة  ابعاد متزنة\n",
              "التصنيف                                  ...                            \n",
              "ارز الجوهرة     8200   8200        8200  ...  8200     8200         8200\n",
              "ارز الساعة      9985   9985        9985  ...  9985     9985         9985\n",
              "\n",
              "[2 rows x 11 columns]"
            ]
          },
          "metadata": {
            "tags": []
          },
          "execution_count": 7
        }
      ]
    },
    {
      "cell_type": "code",
      "metadata": {
        "id": "2_YgcXEkngn2",
        "colab_type": "code",
        "colab": {
          "base_uri": "https://localhost:8080/",
          "height": 104
        },
        "outputId": "50f8318b-cf9b-4fd6-defd-0f86d064f07a"
      },
      "source": [
        "!pip install arabic-reshaper\n",
        "!pip install python-bidi"
      ],
      "execution_count": 8,
      "outputs": [
        {
          "output_type": "stream",
          "text": [
            "Requirement already satisfied: arabic-reshaper in /usr/local/lib/python3.6/dist-packages (2.1.0)\n",
            "Requirement already satisfied: setuptools in /usr/local/lib/python3.6/dist-packages (from arabic-reshaper) (49.2.0)\n",
            "Requirement already satisfied: future in /usr/local/lib/python3.6/dist-packages (from arabic-reshaper) (0.16.0)\n",
            "Requirement already satisfied: python-bidi in /usr/local/lib/python3.6/dist-packages (0.4.2)\n",
            "Requirement already satisfied: six in /usr/local/lib/python3.6/dist-packages (from python-bidi) (1.15.0)\n"
          ],
          "name": "stdout"
        }
      ]
    },
    {
      "cell_type": "code",
      "metadata": {
        "id": "Y3Sr-87Hba2F",
        "colab_type": "code",
        "colab": {
          "base_uri": "https://localhost:8080/",
          "height": 296
        },
        "outputId": "f5d9241e-f82e-4193-d584-89f4f298402f"
      },
      "source": [
        "import arabic_reshaper\n",
        "from bidi.algorithm import get_display\n",
        "title=get_display(arabic_reshaper.reshape('انواع الارز'))\n",
        "xlbl = get_display( arabic_reshaper.reshape('العدد'))\n",
        "ylbl = get_display( arabic_reshaper.reshape('النوع'))\n",
        "first_type=get_display(arabic_reshaper.reshape('ارز الجوهرة'))\n",
        "second_type=get_display(arabic_reshaper.reshape('ارز الساعة'))\n",
        "\n",
        "fig, ax = plt.subplots()\n",
        "\n",
        "ax.bar(result.index,result.الأرقام)\n",
        "\n",
        "plt.title(title)\n",
        "plt.ylabel(xlbl)\n",
        "plt.xlabel(ylbl)\n",
        "plt.xticks(np.arange(2), (first_type,second_type))\n",
        "plt.show()"
      ],
      "execution_count": 9,
      "outputs": [
        {
          "output_type": "display_data",
          "data": {
            "image/png": "[encoded data removed]",
            "text/plain": [
              "<Figure size 432x288 with 1 Axes>"
            ]
          },
          "metadata": {
            "tags": [],
            "needs_background": "light"
          }
        }
      ]
    },
    {
      "cell_type": "code",
      "metadata": {
        "id": "HNbhNxFlbuIx",
        "colab_type": "code",
        "colab": {
          "base_uri": "https://localhost:8080/",
          "height": 196
        },
        "outputId": "420114db-f6b4-46f3-ef10-90e602d02716"
      },
      "source": [
        "result_sum=df.groupby('التصنيف').sum()\n",
        "result_sum"
      ],
      "execution_count": 10,
      "outputs": [
        {
          "output_type": "execute_result",
          "data": {
            "text/html": [
              "<div>\n",
              "<style scoped>\n",
              "    .dataframe tbody tr th:only-of-type {\n",
              "        vertical-align: middle;\n",
              "    }\n",
              "\n",
              "    .dataframe tbody tr th {\n",
              "        vertical-align: top;\n",
              "    }\n",
              "\n",
              "    .dataframe thead th {\n",
              "        text-align: right;\n",
              "    }\n",
              "</style>\n",
              "<table border=\"1\" class=\"dataframe\">\n",
              "  <thead>\n",
              "    <tr style=\"text-align: right;\">\n",
              "      <th></th>\n",
              "      <th>الأرقام</th>\n",
              "      <th>منطقة</th>\n",
              "      <th>طول المحور</th>\n",
              "      <th>طول المحور.1</th>\n",
              "      <th>اللامركزية</th>\n",
              "      <th>منطقة محدبة</th>\n",
              "      <th>القطر المعادل</th>\n",
              "      <th>مدى</th>\n",
              "      <th>محيط</th>\n",
              "      <th>استدارة</th>\n",
              "      <th>ابعاد متزنة</th>\n",
              "    </tr>\n",
              "    <tr>\n",
              "      <th>التصنيف</th>\n",
              "      <th></th>\n",
              "      <th></th>\n",
              "      <th></th>\n",
              "      <th></th>\n",
              "      <th></th>\n",
              "      <th></th>\n",
              "      <th></th>\n",
              "      <th></th>\n",
              "      <th></th>\n",
              "      <th></th>\n",
              "      <th></th>\n",
              "    </tr>\n",
              "  </thead>\n",
              "  <tbody>\n",
              "    <tr>\n",
              "      <th>ارز الجوهرة</th>\n",
              "      <td>112971553</td>\n",
              "      <td>68540039</td>\n",
              "      <td>1.260327e+06</td>\n",
              "      <td>573978.966775</td>\n",
              "      <td>7288.152720</td>\n",
              "      <td>70317423</td>\n",
              "      <td>844437.419456</td>\n",
              "      <td>5343.168215</td>\n",
              "      <td>3025524.658</td>\n",
              "      <td>6312.165236</td>\n",
              "      <td>18036.704364</td>\n",
              "    </tr>\n",
              "    <tr>\n",
              "      <th>ارز الساعة</th>\n",
              "      <td>52384652</td>\n",
              "      <td>59418586</td>\n",
              "      <td>1.497987e+06</td>\n",
              "      <td>513626.806559</td>\n",
              "      <td>9358.511827</td>\n",
              "      <td>61084075</td>\n",
              "      <td>867370.319937</td>\n",
              "      <td>5870.663408</td>\n",
              "      <td>3368447.714</td>\n",
              "      <td>6562.784618</td>\n",
              "      <td>29227.585246</td>\n",
              "    </tr>\n",
              "  </tbody>\n",
              "</table>\n",
              "</div>"
            ],
            "text/plain": [
              "               الأرقام     منطقة  ...      استدارة   ابعاد متزنة\n",
              "التصنيف                           ...                           \n",
              "ارز الجوهرة  112971553  68540039  ...  6312.165236  18036.704364\n",
              "ارز الساعة    52384652  59418586  ...  6562.784618  29227.585246\n",
              "\n",
              "[2 rows x 11 columns]"
            ]
          },
          "metadata": {
            "tags": []
          },
          "execution_count": 10
        }
      ]
    },
    {
      "cell_type": "code",
      "metadata": {
        "id": "m4x6li-Ncd49",
        "colab_type": "code",
        "colab": {
          "base_uri": "https://localhost:8080/",
          "height": 296
        },
        "outputId": "a5a4e7b9-3ac2-457e-92c2-82017e2e95fa"
      },
      "source": [
        "ylabel_SUM=get_display(arabic_reshaper.reshape('المجموع'))\n",
        "title_Sum= get_display(arabic_reshaper.reshape('تصنيف على المجموع'))\n",
        "\n",
        "plt.bar(result_sum.index,result_sum.الأرقام)\n",
        "plt.title(title_Sum)\n",
        "plt.ylabel(ylabel_SUM)\n",
        "plt.xlabel(ylbl)\n",
        "plt.xticks(np.arange(2), (first_type,second_type))\n",
        "plt.show()"
      ],
      "execution_count": 11,
      "outputs": [
        {
          "output_type": "display_data",
          "data": {
            "image/png": "[encoded data removed]",
            "text/plain": [
              "<Figure size 432x288 with 1 Axes>"
            ]
          },
          "metadata": {
            "tags": [],
            "needs_background": "light"
          }
        }
      ]
    },
    {
      "cell_type": "code",
      "metadata": {
        "id": "V-j6XqU6ex8z",
        "colab_type": "code",
        "colab": {}
      },
      "source": [
        "df.shape\n",
        "y=df['التصنيف']\n",
        "y\n",
        "df=df.drop(['الأرقام'],axis=1)\n",
        "x_train = df\n"
      ],
      "execution_count": 12,
      "outputs": []
    },
    {
      "cell_type": "code",
      "metadata": {
        "id": "Vkv2fVyBdTUn",
        "colab_type": "code",
        "colab": {
          "base_uri": "https://localhost:8080/",
          "height": 416
        },
        "outputId": "a6708c41-9a92-46a7-83b8-a11e64a8eb15"
      },
      "source": [
        "x_train"
      ],
      "execution_count": 13,
      "outputs": [
        {
          "output_type": "execute_result",
          "data": {
            "text/html": [
              "<div>\n",
              "<style scoped>\n",
              "    .dataframe tbody tr th:only-of-type {\n",
              "        vertical-align: middle;\n",
              "    }\n",
              "\n",
              "    .dataframe tbody tr th {\n",
              "        vertical-align: top;\n",
              "    }\n",
              "\n",
              "    .dataframe thead th {\n",
              "        text-align: right;\n",
              "    }\n",
              "</style>\n",
              "<table border=\"1\" class=\"dataframe\">\n",
              "  <thead>\n",
              "    <tr style=\"text-align: right;\">\n",
              "      <th></th>\n",
              "      <th>منطقة</th>\n",
              "      <th>طول المحور</th>\n",
              "      <th>طول المحور.1</th>\n",
              "      <th>اللامركزية</th>\n",
              "      <th>منطقة محدبة</th>\n",
              "      <th>القطر المعادل</th>\n",
              "      <th>مدى</th>\n",
              "      <th>محيط</th>\n",
              "      <th>استدارة</th>\n",
              "      <th>ابعاد متزنة</th>\n",
              "      <th>التصنيف</th>\n",
              "    </tr>\n",
              "  </thead>\n",
              "  <tbody>\n",
              "    <tr>\n",
              "      <th>0</th>\n",
              "      <td>4537</td>\n",
              "      <td>92.229316</td>\n",
              "      <td>64.012769</td>\n",
              "      <td>0.719916</td>\n",
              "      <td>4677</td>\n",
              "      <td>76.004525</td>\n",
              "      <td>0.657536</td>\n",
              "      <td>273.085</td>\n",
              "      <td>0.764510</td>\n",
              "      <td>1.440796</td>\n",
              "      <td>ارز الساعة</td>\n",
              "    </tr>\n",
              "    <tr>\n",
              "      <th>1</th>\n",
              "      <td>2872</td>\n",
              "      <td>74.691881</td>\n",
              "      <td>51.400454</td>\n",
              "      <td>0.725553</td>\n",
              "      <td>3015</td>\n",
              "      <td>60.471018</td>\n",
              "      <td>0.713009</td>\n",
              "      <td>208.317</td>\n",
              "      <td>0.831658</td>\n",
              "      <td>1.453137</td>\n",
              "      <td>ارز الساعة</td>\n",
              "    </tr>\n",
              "    <tr>\n",
              "      <th>2</th>\n",
              "      <td>3048</td>\n",
              "      <td>76.293164</td>\n",
              "      <td>52.043491</td>\n",
              "      <td>0.731211</td>\n",
              "      <td>3132</td>\n",
              "      <td>62.296341</td>\n",
              "      <td>0.759153</td>\n",
              "      <td>210.012</td>\n",
              "      <td>0.868434</td>\n",
              "      <td>1.465950</td>\n",
              "      <td>ارز الساعة</td>\n",
              "    </tr>\n",
              "    <tr>\n",
              "      <th>3</th>\n",
              "      <td>3073</td>\n",
              "      <td>77.033628</td>\n",
              "      <td>51.928487</td>\n",
              "      <td>0.738639</td>\n",
              "      <td>3157</td>\n",
              "      <td>62.551300</td>\n",
              "      <td>0.783529</td>\n",
              "      <td>210.657</td>\n",
              "      <td>0.870203</td>\n",
              "      <td>1.483456</td>\n",
              "      <td>ارز الساعة</td>\n",
              "    </tr>\n",
              "    <tr>\n",
              "      <th>4</th>\n",
              "      <td>3693</td>\n",
              "      <td>85.124785</td>\n",
              "      <td>56.374021</td>\n",
              "      <td>0.749282</td>\n",
              "      <td>3802</td>\n",
              "      <td>68.571668</td>\n",
              "      <td>0.769375</td>\n",
              "      <td>230.332</td>\n",
              "      <td>0.874743</td>\n",
              "      <td>1.510000</td>\n",
              "      <td>ارز الساعة</td>\n",
              "    </tr>\n",
              "    <tr>\n",
              "      <th>...</th>\n",
              "      <td>...</td>\n",
              "      <td>...</td>\n",
              "      <td>...</td>\n",
              "      <td>...</td>\n",
              "      <td>...</td>\n",
              "      <td>...</td>\n",
              "      <td>...</td>\n",
              "      <td>...</td>\n",
              "      <td>...</td>\n",
              "      <td>...</td>\n",
              "      <td>...</td>\n",
              "    </tr>\n",
              "    <tr>\n",
              "      <th>18180</th>\n",
              "      <td>5853</td>\n",
              "      <td>148.624571</td>\n",
              "      <td>51.029281</td>\n",
              "      <td>0.939210</td>\n",
              "      <td>6008</td>\n",
              "      <td>86.326537</td>\n",
              "      <td>0.498594</td>\n",
              "      <td>332.960</td>\n",
              "      <td>0.663444</td>\n",
              "      <td>2.912535</td>\n",
              "      <td>ارز الجوهرة</td>\n",
              "    </tr>\n",
              "    <tr>\n",
              "      <th>18181</th>\n",
              "      <td>7585</td>\n",
              "      <td>169.593996</td>\n",
              "      <td>58.141659</td>\n",
              "      <td>0.939398</td>\n",
              "      <td>7806</td>\n",
              "      <td>98.272692</td>\n",
              "      <td>0.647461</td>\n",
              "      <td>385.506</td>\n",
              "      <td>0.641362</td>\n",
              "      <td>2.916910</td>\n",
              "      <td>ارز الجوهرة</td>\n",
              "    </tr>\n",
              "    <tr>\n",
              "      <th>18182</th>\n",
              "      <td>6365</td>\n",
              "      <td>154.777085</td>\n",
              "      <td>52.908085</td>\n",
              "      <td>0.939760</td>\n",
              "      <td>6531</td>\n",
              "      <td>90.023162</td>\n",
              "      <td>0.561287</td>\n",
              "      <td>342.253</td>\n",
              "      <td>0.682832</td>\n",
              "      <td>2.925396</td>\n",
              "      <td>ارز الجوهرة</td>\n",
              "    </tr>\n",
              "    <tr>\n",
              "      <th>18183</th>\n",
              "      <td>5960</td>\n",
              "      <td>151.397924</td>\n",
              "      <td>51.474600</td>\n",
              "      <td>0.940427</td>\n",
              "      <td>6189</td>\n",
              "      <td>87.112041</td>\n",
              "      <td>0.492399</td>\n",
              "      <td>343.371</td>\n",
              "      <td>0.635227</td>\n",
              "      <td>2.941216</td>\n",
              "      <td>ارز الجوهرة</td>\n",
              "    </tr>\n",
              "    <tr>\n",
              "      <th>18184</th>\n",
              "      <td>6134</td>\n",
              "      <td>153.081981</td>\n",
              "      <td>51.590606</td>\n",
              "      <td>0.941500</td>\n",
              "      <td>6283</td>\n",
              "      <td>88.374495</td>\n",
              "      <td>0.489975</td>\n",
              "      <td>338.613</td>\n",
              "      <td>0.672274</td>\n",
              "      <td>2.967245</td>\n",
              "      <td>ارز الجوهرة</td>\n",
              "    </tr>\n",
              "  </tbody>\n",
              "</table>\n",
              "<p>18185 rows × 11 columns</p>\n",
              "</div>"
            ],
            "text/plain": [
              "       منطقة  طول المحور  طول المحور.1  ...   استدارة  ابعاد متزنة      التصنيف\n",
              "0       4537   92.229316     64.012769  ...  0.764510     1.440796   ارز الساعة\n",
              "1       2872   74.691881     51.400454  ...  0.831658     1.453137   ارز الساعة\n",
              "2       3048   76.293164     52.043491  ...  0.868434     1.465950   ارز الساعة\n",
              "3       3073   77.033628     51.928487  ...  0.870203     1.483456   ارز الساعة\n",
              "4       3693   85.124785     56.374021  ...  0.874743     1.510000   ارز الساعة\n",
              "...      ...         ...           ...  ...       ...          ...          ...\n",
              "18180   5853  148.624571     51.029281  ...  0.663444     2.912535  ارز الجوهرة\n",
              "18181   7585  169.593996     58.141659  ...  0.641362     2.916910  ارز الجوهرة\n",
              "18182   6365  154.777085     52.908085  ...  0.682832     2.925396  ارز الجوهرة\n",
              "18183   5960  151.397924     51.474600  ...  0.635227     2.941216  ارز الجوهرة\n",
              "18184   6134  153.081981     51.590606  ...  0.672274     2.967245  ارز الجوهرة\n",
              "\n",
              "[18185 rows x 11 columns]"
            ]
          },
          "metadata": {
            "tags": []
          },
          "execution_count": 13
        }
      ]
    },
    {
      "cell_type": "code",
      "metadata": {
        "id": "K1jlmoxXeiai",
        "colab_type": "code",
        "colab": {}
      },
      "source": [
        "from sklearn.model_selection import train_test_split\n",
        "X_train, X_test, y_train, y_test = train_test_split(df, y, test_size=0.2)\n"
      ],
      "execution_count": 14,
      "outputs": []
    },
    {
      "cell_type": "code",
      "metadata": {
        "id": "KK_X5xr_eol0",
        "colab_type": "code",
        "colab": {
          "base_uri": "https://localhost:8080/",
          "height": 416
        },
        "outputId": "63370855-bf47-4328-de1e-e47eca5dd868"
      },
      "source": [
        "X_train"
      ],
      "execution_count": 15,
      "outputs": [
        {
          "output_type": "execute_result",
          "data": {
            "text/html": [
              "<div>\n",
              "<style scoped>\n",
              "    .dataframe tbody tr th:only-of-type {\n",
              "        vertical-align: middle;\n",
              "    }\n",
              "\n",
              "    .dataframe tbody tr th {\n",
              "        vertical-align: top;\n",
              "    }\n",
              "\n",
              "    .dataframe thead th {\n",
              "        text-align: right;\n",
              "    }\n",
              "</style>\n",
              "<table border=\"1\" class=\"dataframe\">\n",
              "  <thead>\n",
              "    <tr style=\"text-align: right;\">\n",
              "      <th></th>\n",
              "      <th>منطقة</th>\n",
              "      <th>طول المحور</th>\n",
              "      <th>طول المحور.1</th>\n",
              "      <th>اللامركزية</th>\n",
              "      <th>منطقة محدبة</th>\n",
              "      <th>القطر المعادل</th>\n",
              "      <th>مدى</th>\n",
              "      <th>محيط</th>\n",
              "      <th>استدارة</th>\n",
              "      <th>ابعاد متزنة</th>\n",
              "      <th>التصنيف</th>\n",
              "    </tr>\n",
              "  </thead>\n",
              "  <tbody>\n",
              "    <tr>\n",
              "      <th>10706</th>\n",
              "      <td>7687</td>\n",
              "      <td>143.976789</td>\n",
              "      <td>69.284962</td>\n",
              "      <td>0.876598</td>\n",
              "      <td>7922</td>\n",
              "      <td>98.931251</td>\n",
              "      <td>0.712287</td>\n",
              "      <td>350.283</td>\n",
              "      <td>0.787279</td>\n",
              "      <td>2.078038</td>\n",
              "      <td>ارز الجوهرة</td>\n",
              "    </tr>\n",
              "    <tr>\n",
              "      <th>12300</th>\n",
              "      <td>6789</td>\n",
              "      <td>137.013900</td>\n",
              "      <td>63.967720</td>\n",
              "      <td>0.884326</td>\n",
              "      <td>6964</td>\n",
              "      <td>92.973240</td>\n",
              "      <td>0.811111</td>\n",
              "      <td>327.316</td>\n",
              "      <td>0.796308</td>\n",
              "      <td>2.141923</td>\n",
              "      <td>ارز الجوهرة</td>\n",
              "    </tr>\n",
              "    <tr>\n",
              "      <th>3875</th>\n",
              "      <td>5272</td>\n",
              "      <td>139.866494</td>\n",
              "      <td>48.915949</td>\n",
              "      <td>0.936849</td>\n",
              "      <td>5409</td>\n",
              "      <td>81.929963</td>\n",
              "      <td>0.483315</td>\n",
              "      <td>313.742</td>\n",
              "      <td>0.673039</td>\n",
              "      <td>2.859323</td>\n",
              "      <td>ارز الساعة</td>\n",
              "    </tr>\n",
              "    <tr>\n",
              "      <th>851</th>\n",
              "      <td>6170</td>\n",
              "      <td>143.791602</td>\n",
              "      <td>55.630724</td>\n",
              "      <td>0.922128</td>\n",
              "      <td>6283</td>\n",
              "      <td>88.633447</td>\n",
              "      <td>0.692403</td>\n",
              "      <td>328.076</td>\n",
              "      <td>0.720354</td>\n",
              "      <td>2.584752</td>\n",
              "      <td>ارز الساعة</td>\n",
              "    </tr>\n",
              "    <tr>\n",
              "      <th>17241</th>\n",
              "      <td>6211</td>\n",
              "      <td>137.361333</td>\n",
              "      <td>58.716134</td>\n",
              "      <td>0.904035</td>\n",
              "      <td>6370</td>\n",
              "      <td>88.927447</td>\n",
              "      <td>0.757347</td>\n",
              "      <td>323.000</td>\n",
              "      <td>0.748112</td>\n",
              "      <td>2.339414</td>\n",
              "      <td>ارز الجوهرة</td>\n",
              "    </tr>\n",
              "    <tr>\n",
              "      <th>...</th>\n",
              "      <td>...</td>\n",
              "      <td>...</td>\n",
              "      <td>...</td>\n",
              "      <td>...</td>\n",
              "      <td>...</td>\n",
              "      <td>...</td>\n",
              "      <td>...</td>\n",
              "      <td>...</td>\n",
              "      <td>...</td>\n",
              "      <td>...</td>\n",
              "      <td>...</td>\n",
              "    </tr>\n",
              "    <tr>\n",
              "      <th>11076</th>\n",
              "      <td>8018</td>\n",
              "      <td>146.777605</td>\n",
              "      <td>70.239402</td>\n",
              "      <td>0.878064</td>\n",
              "      <td>8196</td>\n",
              "      <td>101.038778</td>\n",
              "      <td>0.588477</td>\n",
              "      <td>354.290</td>\n",
              "      <td>0.802709</td>\n",
              "      <td>2.089676</td>\n",
              "      <td>ارز الجوهرة</td>\n",
              "    </tr>\n",
              "    <tr>\n",
              "      <th>9297</th>\n",
              "      <td>6248</td>\n",
              "      <td>161.474809</td>\n",
              "      <td>50.103462</td>\n",
              "      <td>0.950643</td>\n",
              "      <td>6415</td>\n",
              "      <td>89.191932</td>\n",
              "      <td>0.511628</td>\n",
              "      <td>353.104</td>\n",
              "      <td>0.629717</td>\n",
              "      <td>3.222827</td>\n",
              "      <td>ارز الساعة</td>\n",
              "    </tr>\n",
              "    <tr>\n",
              "      <th>1271</th>\n",
              "      <td>6634</td>\n",
              "      <td>150.776903</td>\n",
              "      <td>56.789536</td>\n",
              "      <td>0.926357</td>\n",
              "      <td>6901</td>\n",
              "      <td>91.905773</td>\n",
              "      <td>0.522074</td>\n",
              "      <td>365.427</td>\n",
              "      <td>0.624287</td>\n",
              "      <td>2.655012</td>\n",
              "      <td>ارز الساعة</td>\n",
              "    </tr>\n",
              "    <tr>\n",
              "      <th>8070</th>\n",
              "      <td>6502</td>\n",
              "      <td>161.747379</td>\n",
              "      <td>51.906407</td>\n",
              "      <td>0.947110</td>\n",
              "      <td>6707</td>\n",
              "      <td>90.986832</td>\n",
              "      <td>0.535144</td>\n",
              "      <td>358.414</td>\n",
              "      <td>0.636044</td>\n",
              "      <td>3.116135</td>\n",
              "      <td>ارز الساعة</td>\n",
              "    </tr>\n",
              "    <tr>\n",
              "      <th>15312</th>\n",
              "      <td>6545</td>\n",
              "      <td>137.656431</td>\n",
              "      <td>61.343378</td>\n",
              "      <td>0.895219</td>\n",
              "      <td>6679</td>\n",
              "      <td>91.287200</td>\n",
              "      <td>0.783176</td>\n",
              "      <td>325.241</td>\n",
              "      <td>0.777515</td>\n",
              "      <td>2.244031</td>\n",
              "      <td>ارز الجوهرة</td>\n",
              "    </tr>\n",
              "  </tbody>\n",
              "</table>\n",
              "<p>14548 rows × 11 columns</p>\n",
              "</div>"
            ],
            "text/plain": [
              "       منطقة  طول المحور  طول المحور.1  ...   استدارة  ابعاد متزنة      التصنيف\n",
              "10706   7687  143.976789     69.284962  ...  0.787279     2.078038  ارز الجوهرة\n",
              "12300   6789  137.013900     63.967720  ...  0.796308     2.141923  ارز الجوهرة\n",
              "3875    5272  139.866494     48.915949  ...  0.673039     2.859323   ارز الساعة\n",
              "851     6170  143.791602     55.630724  ...  0.720354     2.584752   ارز الساعة\n",
              "17241   6211  137.361333     58.716134  ...  0.748112     2.339414  ارز الجوهرة\n",
              "...      ...         ...           ...  ...       ...          ...          ...\n",
              "11076   8018  146.777605     70.239402  ...  0.802709     2.089676  ارز الجوهرة\n",
              "9297    6248  161.474809     50.103462  ...  0.629717     3.222827   ارز الساعة\n",
              "1271    6634  150.776903     56.789536  ...  0.624287     2.655012   ارز الساعة\n",
              "8070    6502  161.747379     51.906407  ...  0.636044     3.116135   ارز الساعة\n",
              "15312   6545  137.656431     61.343378  ...  0.777515     2.244031  ارز الجوهرة\n",
              "\n",
              "[14548 rows x 11 columns]"
            ]
          },
          "metadata": {
            "tags": []
          },
          "execution_count": 15
        }
      ]
    },
    {
      "cell_type": "code",
      "metadata": {
        "id": "COSRJWTahrs9",
        "colab_type": "code",
        "colab": {
          "base_uri": "https://localhost:8080/",
          "height": 416
        },
        "outputId": "c63da0ae-018d-4ff2-9e0f-fc9f830a4793"
      },
      "source": [
        "X_test"
      ],
      "execution_count": 16,
      "outputs": [
        {
          "output_type": "execute_result",
          "data": {
            "text/html": [
              "<div>\n",
              "<style scoped>\n",
              "    .dataframe tbody tr th:only-of-type {\n",
              "        vertical-align: middle;\n",
              "    }\n",
              "\n",
              "    .dataframe tbody tr th {\n",
              "        vertical-align: top;\n",
              "    }\n",
              "\n",
              "    .dataframe thead th {\n",
              "        text-align: right;\n",
              "    }\n",
              "</style>\n",
              "<table border=\"1\" class=\"dataframe\">\n",
              "  <thead>\n",
              "    <tr style=\"text-align: right;\">\n",
              "      <th></th>\n",
              "      <th>منطقة</th>\n",
              "      <th>طول المحور</th>\n",
              "      <th>طول المحور.1</th>\n",
              "      <th>اللامركزية</th>\n",
              "      <th>منطقة محدبة</th>\n",
              "      <th>القطر المعادل</th>\n",
              "      <th>مدى</th>\n",
              "      <th>محيط</th>\n",
              "      <th>استدارة</th>\n",
              "      <th>ابعاد متزنة</th>\n",
              "      <th>التصنيف</th>\n",
              "    </tr>\n",
              "  </thead>\n",
              "  <tbody>\n",
              "    <tr>\n",
              "      <th>2511</th>\n",
              "      <td>5680</td>\n",
              "      <td>142.869898</td>\n",
              "      <td>51.574544</td>\n",
              "      <td>0.932570</td>\n",
              "      <td>5881</td>\n",
              "      <td>85.041170</td>\n",
              "      <td>0.478114</td>\n",
              "      <td>328.017</td>\n",
              "      <td>0.663385</td>\n",
              "      <td>2.770163</td>\n",
              "      <td>ارز الساعة</td>\n",
              "    </tr>\n",
              "    <tr>\n",
              "      <th>1358</th>\n",
              "      <td>6553</td>\n",
              "      <td>150.147273</td>\n",
              "      <td>56.338122</td>\n",
              "      <td>0.926936</td>\n",
              "      <td>6697</td>\n",
              "      <td>91.342973</td>\n",
              "      <td>0.689499</td>\n",
              "      <td>345.585</td>\n",
              "      <td>0.689510</td>\n",
              "      <td>2.665110</td>\n",
              "      <td>ارز الساعة</td>\n",
              "    </tr>\n",
              "    <tr>\n",
              "      <th>5559</th>\n",
              "      <td>5553</td>\n",
              "      <td>145.947915</td>\n",
              "      <td>49.285043</td>\n",
              "      <td>0.941258</td>\n",
              "      <td>5728</td>\n",
              "      <td>84.085071</td>\n",
              "      <td>0.587619</td>\n",
              "      <td>334.852</td>\n",
              "      <td>0.622346</td>\n",
              "      <td>2.961302</td>\n",
              "      <td>ارز الساعة</td>\n",
              "    </tr>\n",
              "    <tr>\n",
              "      <th>8338</th>\n",
              "      <td>7824</td>\n",
              "      <td>142.730694</td>\n",
              "      <td>70.994171</td>\n",
              "      <td>0.867522</td>\n",
              "      <td>8059</td>\n",
              "      <td>99.808948</td>\n",
              "      <td>0.735338</td>\n",
              "      <td>350.770</td>\n",
              "      <td>0.799087</td>\n",
              "      <td>2.010457</td>\n",
              "      <td>ارز الجوهرة</td>\n",
              "    </tr>\n",
              "    <tr>\n",
              "      <th>15832</th>\n",
              "      <td>7912</td>\n",
              "      <td>152.237883</td>\n",
              "      <td>67.276245</td>\n",
              "      <td>0.897057</td>\n",
              "      <td>8159</td>\n",
              "      <td>100.368677</td>\n",
              "      <td>0.596952</td>\n",
              "      <td>362.161</td>\n",
              "      <td>0.758041</td>\n",
              "      <td>2.262877</td>\n",
              "      <td>ارز الجوهرة</td>\n",
              "    </tr>\n",
              "    <tr>\n",
              "      <th>...</th>\n",
              "      <td>...</td>\n",
              "      <td>...</td>\n",
              "      <td>...</td>\n",
              "      <td>...</td>\n",
              "      <td>...</td>\n",
              "      <td>...</td>\n",
              "      <td>...</td>\n",
              "      <td>...</td>\n",
              "      <td>...</td>\n",
              "      <td>...</td>\n",
              "      <td>...</td>\n",
              "    </tr>\n",
              "    <tr>\n",
              "      <th>2672</th>\n",
              "      <td>5750</td>\n",
              "      <td>143.841091</td>\n",
              "      <td>51.701345</td>\n",
              "      <td>0.933171</td>\n",
              "      <td>5880</td>\n",
              "      <td>85.563587</td>\n",
              "      <td>0.507234</td>\n",
              "      <td>325.510</td>\n",
              "      <td>0.681945</td>\n",
              "      <td>2.782154</td>\n",
              "      <td>ارز الساعة</td>\n",
              "    </tr>\n",
              "    <tr>\n",
              "      <th>8170</th>\n",
              "      <td>4094</td>\n",
              "      <td>128.718364</td>\n",
              "      <td>41.207771</td>\n",
              "      <td>0.947371</td>\n",
              "      <td>4212</td>\n",
              "      <td>72.198634</td>\n",
              "      <td>0.462181</td>\n",
              "      <td>282.455</td>\n",
              "      <td>0.644851</td>\n",
              "      <td>3.123643</td>\n",
              "      <td>ارز الساعة</td>\n",
              "    </tr>\n",
              "    <tr>\n",
              "      <th>16239</th>\n",
              "      <td>8922</td>\n",
              "      <td>161.610021</td>\n",
              "      <td>70.904980</td>\n",
              "      <td>0.898613</td>\n",
              "      <td>9136</td>\n",
              "      <td>106.582565</td>\n",
              "      <td>0.773539</td>\n",
              "      <td>381.064</td>\n",
              "      <td>0.772105</td>\n",
              "      <td>2.279248</td>\n",
              "      <td>ارز الجوهرة</td>\n",
              "    </tr>\n",
              "    <tr>\n",
              "      <th>7741</th>\n",
              "      <td>6365</td>\n",
              "      <td>127.628695</td>\n",
              "      <td>64.258361</td>\n",
              "      <td>0.864007</td>\n",
              "      <td>6500</td>\n",
              "      <td>90.023162</td>\n",
              "      <td>0.760000</td>\n",
              "      <td>312.728</td>\n",
              "      <td>0.817852</td>\n",
              "      <td>1.986180</td>\n",
              "      <td>ارز الجوهرة</td>\n",
              "    </tr>\n",
              "    <tr>\n",
              "      <th>12197</th>\n",
              "      <td>8138</td>\n",
              "      <td>149.987789</td>\n",
              "      <td>70.147625</td>\n",
              "      <td>0.883893</td>\n",
              "      <td>8351</td>\n",
              "      <td>101.792060</td>\n",
              "      <td>0.701552</td>\n",
              "      <td>361.845</td>\n",
              "      <td>0.781056</td>\n",
              "      <td>2.138173</td>\n",
              "      <td>ارز الجوهرة</td>\n",
              "    </tr>\n",
              "  </tbody>\n",
              "</table>\n",
              "<p>3637 rows × 11 columns</p>\n",
              "</div>"
            ],
            "text/plain": [
              "       منطقة  طول المحور  طول المحور.1  ...   استدارة  ابعاد متزنة      التصنيف\n",
              "2511    5680  142.869898     51.574544  ...  0.663385     2.770163   ارز الساعة\n",
              "1358    6553  150.147273     56.338122  ...  0.689510     2.665110   ارز الساعة\n",
              "5559    5553  145.947915     49.285043  ...  0.622346     2.961302   ارز الساعة\n",
              "8338    7824  142.730694     70.994171  ...  0.799087     2.010457  ارز الجوهرة\n",
              "15832   7912  152.237883     67.276245  ...  0.758041     2.262877  ارز الجوهرة\n",
              "...      ...         ...           ...  ...       ...          ...          ...\n",
              "2672    5750  143.841091     51.701345  ...  0.681945     2.782154   ارز الساعة\n",
              "8170    4094  128.718364     41.207771  ...  0.644851     3.123643   ارز الساعة\n",
              "16239   8922  161.610021     70.904980  ...  0.772105     2.279248  ارز الجوهرة\n",
              "7741    6365  127.628695     64.258361  ...  0.817852     1.986180  ارز الجوهرة\n",
              "12197   8138  149.987789     70.147625  ...  0.781056     2.138173  ارز الجوهرة\n",
              "\n",
              "[3637 rows x 11 columns]"
            ]
          },
          "metadata": {
            "tags": []
          },
          "execution_count": 16
        }
      ]
    },
    {
      "cell_type": "code",
      "metadata": {
        "id": "ZJ1pvp9DhrhA",
        "colab_type": "code",
        "colab": {
          "base_uri": "https://localhost:8080/",
          "height": 225
        },
        "outputId": "82b0f4b8-88c3-4ec1-e4e7-c0f98bef2961"
      },
      "source": [
        "y_train"
      ],
      "execution_count": 17,
      "outputs": [
        {
          "output_type": "execute_result",
          "data": {
            "text/plain": [
              "10706    ارز الجوهرة\n",
              "12300    ارز الجوهرة\n",
              "3875      ارز الساعة\n",
              "851       ارز الساعة\n",
              "17241    ارز الجوهرة\n",
              "            ...     \n",
              "11076    ارز الجوهرة\n",
              "9297      ارز الساعة\n",
              "1271      ارز الساعة\n",
              "8070      ارز الساعة\n",
              "15312    ارز الجوهرة\n",
              "Name: التصنيف, Length: 14548, dtype: object"
            ]
          },
          "metadata": {
            "tags": []
          },
          "execution_count": 17
        }
      ]
    },
    {
      "cell_type": "code",
      "metadata": {
        "id": "5gySMYgNhtf_",
        "colab_type": "code",
        "colab": {
          "base_uri": "https://localhost:8080/",
          "height": 225
        },
        "outputId": "70896d2d-9234-4d84-ed87-66aeec280ee3"
      },
      "source": [
        "y_test"
      ],
      "execution_count": 18,
      "outputs": [
        {
          "output_type": "execute_result",
          "data": {
            "text/plain": [
              "2511      ارز الساعة\n",
              "1358      ارز الساعة\n",
              "5559      ارز الساعة\n",
              "8338     ارز الجوهرة\n",
              "15832    ارز الجوهرة\n",
              "            ...     \n",
              "2672      ارز الساعة\n",
              "8170      ارز الساعة\n",
              "16239    ارز الجوهرة\n",
              "7741     ارز الجوهرة\n",
              "12197    ارز الجوهرة\n",
              "Name: التصنيف, Length: 3637, dtype: object"
            ]
          },
          "metadata": {
            "tags": []
          },
          "execution_count": 18
        }
      ]
    },
    {
      "cell_type": "code",
      "metadata": {
        "id": "PJzsGLjBhta8",
        "colab_type": "code",
        "colab": {
          "base_uri": "https://localhost:8080/",
          "height": 52
        },
        "outputId": "952bd084-825d-47ad-ad25-5b21797daa96"
      },
      "source": [
        "print (X_train.shape, y_train.shape)\n",
        "print ( X_test.shape, y_test.shape)"
      ],
      "execution_count": 19,
      "outputs": [
        {
          "output_type": "stream",
          "text": [
            "(14548, 11) (14548,)\n",
            "(3637, 11) (3637,)\n"
          ],
          "name": "stdout"
        }
      ]
    },
    {
      "cell_type": "code",
      "metadata": {
        "id": "_mOuIDaBjaw-",
        "colab_type": "code",
        "colab": {}
      },
      "source": [
        "X_train=X_train.drop('التصنيف',axis=1)"
      ],
      "execution_count": 20,
      "outputs": []
    },
    {
      "cell_type": "code",
      "metadata": {
        "id": "YRUl2p6ah_Nd",
        "colab_type": "code",
        "colab": {
          "base_uri": "https://localhost:8080/",
          "height": 86
        },
        "outputId": "cab0cacd-6a52-47f5-a49c-40c7bd27c009"
      },
      "source": [
        "from sklearn.svm import SVC\n",
        "svclassifier = SVC(kernel='linear')\n",
        "svclassifier.fit(X_train, y_train)"
      ],
      "execution_count": 21,
      "outputs": [
        {
          "output_type": "execute_result",
          "data": {
            "text/plain": [
              "SVC(C=1.0, break_ties=False, cache_size=200, class_weight=None, coef0=0.0,\n",
              "    decision_function_shape='ovr', degree=3, gamma='scale', kernel='linear',\n",
              "    max_iter=-1, probability=False, random_state=None, shrinking=True,\n",
              "    tol=0.001, verbose=False)"
            ]
          },
          "metadata": {
            "tags": []
          },
          "execution_count": 21
        }
      ]
    },
    {
      "cell_type": "code",
      "metadata": {
        "id": "VP1qDzPuj6gJ",
        "colab_type": "code",
        "colab": {}
      },
      "source": [
        "X_test=X_test.drop('التصنيف',axis=1)"
      ],
      "execution_count": 22,
      "outputs": []
    },
    {
      "cell_type": "code",
      "metadata": {
        "id": "BrrW1uTFilyo",
        "colab_type": "code",
        "colab": {}
      },
      "source": [
        "y_pred = svclassifier.predict(X_test)"
      ],
      "execution_count": 23,
      "outputs": []
    },
    {
      "cell_type": "code",
      "metadata": {
        "id": "X0N32R7Hj4xe",
        "colab_type": "code",
        "colab": {
          "base_uri": "https://localhost:8080/",
          "height": 52
        },
        "outputId": "2d8d0f0c-501e-400a-c488-9244d8187844"
      },
      "source": [
        "y_pred"
      ],
      "execution_count": 24,
      "outputs": [
        {
          "output_type": "execute_result",
          "data": {
            "text/plain": [
              "array(['ارز الساعة', 'ارز الساعة', 'ارز الساعة', ..., 'ارز الجوهرة',\n",
              "       'ارز الجوهرة', 'ارز الجوهرة'], dtype=object)"
            ]
          },
          "metadata": {
            "tags": []
          },
          "execution_count": 24
        }
      ]
    },
    {
      "cell_type": "code",
      "metadata": {
        "id": "wcsTOaPKkDaX",
        "colab_type": "code",
        "colab": {
          "base_uri": "https://localhost:8080/",
          "height": 208
        },
        "outputId": "16e21c15-fe33-4628-910a-8e3eb72679d1"
      },
      "source": [
        "from sklearn.metrics import classification_report, confusion_matrix\n",
        "print(confusion_matrix(y_test,y_pred))\n",
        "print(classification_report(y_test,y_pred))"
      ],
      "execution_count": 25,
      "outputs": [
        {
          "output_type": "stream",
          "text": [
            "[[1610   30]\n",
            " [  14 1983]]\n",
            "              precision    recall  f1-score   support\n",
            "\n",
            " ارز الجوهرة       0.99      0.98      0.99      1640\n",
            "  ارز الساعة       0.99      0.99      0.99      1997\n",
            "\n",
            "    accuracy                           0.99      3637\n",
            "   macro avg       0.99      0.99      0.99      3637\n",
            "weighted avg       0.99      0.99      0.99      3637\n",
            "\n"
          ],
          "name": "stdout"
        }
      ]
    }
  ]
}